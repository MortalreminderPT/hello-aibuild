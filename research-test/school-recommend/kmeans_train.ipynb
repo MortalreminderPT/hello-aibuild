{
 "cells": [
  {
   "cell_type": "code",
   "execution_count": 1,
   "id": "85da4611-ab03-4254-a59a-108621301f4d",
   "metadata": {},
   "outputs": [],
   "source": [
    "import torch\n",
    "import pickle\n",
    "import numpy as np\n",
    "from kmeans_pytorch import kmeans\n",
    "from utils import read, to_int, to_float, process, normalize"
   ]
  },
  {
   "cell_type": "code",
   "execution_count": 2,
   "id": "507ba2ed-b9e7-4f33-831d-e55de49385c7",
   "metadata": {},
   "outputs": [],
   "source": [
    "n_clusters = 5"
   ]
  },
  {
   "cell_type": "code",
   "execution_count": 3,
   "id": "f42c7cbb-4dc8-4efa-a0cf-b92439c5c686",
   "metadata": {},
   "outputs": [
    {
     "name": "stdout",
     "output_type": "stream",
     "text": [
      "[[-5.73868738e-01  8.18947295e-01  8.83832808e-01 ...  9.77000000e+02\n",
      "   1.01000000e+03  7.28000000e+01]\n",
      " [-5.24882420e-01  8.51174744e-01  9.00999968e-01 ...  3.00000000e+02\n",
      "   1.03500000e+03 -1.00000000e+00]\n",
      " [-5.30651283e-01  8.47590240e-01  8.99809034e-01 ...  1.35400000e+03\n",
      "   1.15400000e+03  8.63500000e+01]\n",
      " ...\n",
      " [-5.28323686e-01  8.49043040e-01  8.98742801e-01 ...  8.60000000e+01\n",
      "  -1.00000000e+00 -1.00000000e+00]\n",
      " [-5.25339485e-01  8.50892722e-01  9.00926725e-01 ...  2.20000000e+02\n",
      "  -1.00000000e+00 -1.00000000e+00]\n",
      " [-5.30619586e-01  8.47610084e-01  8.98744602e-01 ...  2.89000000e+02\n",
      "   8.65000000e+02 -1.00000000e+00]]\n"
     ]
    },
    {
     "data": {
      "text/plain": [
       "tensor([[-1.4547e-04, -8.7209e-05, -1.9491e-05,  ...,  1.2693e+00,\n",
       "          4.8863e-02, -2.2339e-02],\n",
       "        [-3.0860e-05, -1.1811e-05,  2.0673e-05,  ..., -1.8985e+00,\n",
       "          1.6584e-01, -3.6766e-01],\n",
       "        [-4.4356e-05, -2.0197e-05,  1.7887e-05,  ...,  3.0333e+00,\n",
       "          7.2266e-01,  4.1064e-02],\n",
       "        ...,\n",
       "        [-3.8911e-05, -1.6798e-05,  1.5392e-05,  ..., -2.8998e+00,\n",
       "         -4.6817e+00, -3.6766e-01],\n",
       "        [-3.1929e-05, -1.2470e-05,  2.0502e-05,  ..., -2.2728e+00,\n",
       "         -4.6817e+00, -3.6766e-01],\n",
       "        [-4.4282e-05, -2.0150e-05,  1.5397e-05,  ..., -1.9500e+00,\n",
       "         -6.2961e-01, -3.6766e-01]], dtype=torch.float64)"
      ]
     },
     "execution_count": 3,
     "metadata": {},
     "output_type": "execute_result"
    }
   ],
   "source": [
    "school_list = read('./wa_secondary_schools.csv')\n",
    "processed_array = process(school_list)\n",
    "means = np.where(processed_array != -1, processed_array, np.nan)\n",
    "means = np.nanmean(means, axis=0)\n",
    "std_dev = np.std(processed_array)\n",
    "processed_array = normalize(processed_array, means, std_dev, 'means_filling')\n",
    "processed_tensor = torch.tensor(processed_array)\n",
    "processed_tensor"
   ]
  },
  {
   "cell_type": "code",
   "execution_count": 4,
   "id": "92ae937d-8290-4dbc-901c-069c5ad28b31",
   "metadata": {},
   "outputs": [
    {
     "name": "stdout",
     "output_type": "stream",
     "text": [
      "running k-means on cpu..\n"
     ]
    },
    {
     "name": "stderr",
     "output_type": "stream",
     "text": [
      "[running kmeans]: 7it [00:00, 398.04it/s, center_shift=0.000000, iteration=7, tol=0.000100]\n"
     ]
    },
    {
     "data": {
      "text/plain": [
       "{'means': array([-5.11692093e-01,  8.56222924e-01,  8.92163665e-01, -4.49097068e-01,\n",
       "         7.05739812e+02,  9.99557252e+02,  7.75741007e+01]),\n",
       " 'std_dev': 427.4300898319394,\n",
       " 'labels': tensor([0, 2, 1, 3, 0, 0, 3, 3, 3, 2, 0, 2, 2, 0, 3, 0, 3, 0, 4, 0, 0, 0, 2, 2,\n",
       "         2, 2, 2, 2, 2, 0, 2, 0, 2, 1, 4, 0, 4, 0, 0, 4, 0, 3, 0, 0, 0, 4, 2, 2,\n",
       "         4, 3, 2, 3, 2, 0, 1, 4, 2, 1, 2, 0, 2, 2, 2, 2, 0, 2, 1, 3, 4, 0, 2, 3,\n",
       "         2, 2, 2, 2, 0, 0, 2, 4, 4, 2, 2, 2, 2, 0, 3, 2, 0, 2, 4, 2, 0, 0, 2, 2,\n",
       "         0, 2, 2, 4, 2, 2, 0, 2, 3, 1, 4, 2, 0, 3, 2, 2, 2, 2, 0, 2, 1, 0, 3, 1,\n",
       "         4, 0, 0, 0, 2, 4, 0, 1, 2, 2, 0, 2, 2, 2, 1, 0, 2, 4, 2, 0, 0, 2, 0, 0,\n",
       "         1, 1, 3, 2, 0, 2, 3, 2, 4, 0, 2, 2, 2, 0, 1, 0, 4, 3, 1, 2, 0, 2, 2, 0,\n",
       "         2, 0, 2, 4, 1, 1, 2, 0, 4, 0, 4, 0, 3, 0, 2, 2, 0, 1, 1, 2, 0, 1, 0, 2,\n",
       "         1, 1, 2, 0, 4, 0, 4, 2, 2, 2, 0, 2, 2, 2, 0, 2, 4, 2, 2, 0, 2, 4, 2, 2,\n",
       "         0, 4, 4, 4, 2, 1, 1, 4, 1, 2, 1, 0, 3, 2, 1, 1, 1, 2, 0, 2, 4, 1, 2, 3,\n",
       "         4, 1, 0, 0, 3, 1, 4, 1, 0, 0, 2, 0, 3, 4, 4, 2, 2, 0, 2, 2, 1, 2, 2, 2,\n",
       "         1, 1, 2, 1, 2, 0, 4, 0, 2, 1, 3, 1, 0, 2, 2, 0, 0, 4, 4, 4, 2, 2, 0, 2,\n",
       "         2, 1, 2, 1, 0, 2, 3, 3, 2, 4, 1, 4, 4, 4, 4, 4, 0, 2, 4, 0, 4, 2, 2, 4,\n",
       "         3, 4, 4, 2, 4, 4, 2]),\n",
       " 'centers': tensor([[-2.9755e-05, -1.3751e-05,  1.4207e-05,  2.3380e-05,  2.9607e+00,\n",
       "           1.4152e-01, -2.3228e-02],\n",
       "         [-4.6625e-05, -2.1757e-05,  1.7146e-05,  2.8564e-05,  1.5529e+00,\n",
       "           4.7044e-01, -2.7828e-02],\n",
       "         [ 5.2426e-08, -7.8754e-07, -2.1936e-06, -2.6429e-06, -1.9508e+00,\n",
       "          -1.5175e-01, -3.3446e-01],\n",
       "         [ 2.3801e-06,  1.6692e-06,  8.8611e-08,  4.8374e-07,  1.2578e+00,\n",
       "          -3.3782e+00, -2.2554e-01],\n",
       "         [ 8.3357e-05,  4.0286e-05, -3.1277e-05, -5.4185e-05, -2.0648e+00,\n",
       "          -3.6930e+00, -3.3855e-01]])}"
      ]
     },
     "execution_count": 4,
     "metadata": {},
     "output_type": "execute_result"
    }
   ],
   "source": [
    "labels, cluster_centers = kmeans(\n",
    "    X=processed_tensor, num_clusters=n_clusters, distance='cosine'\n",
    ")\n",
    "\n",
    "training_results = {\n",
    "    'means': means,\n",
    "    'std_dev': std_dev,\n",
    "    'labels': labels,\n",
    "    'centers': cluster_centers,\n",
    "}\n",
    "\n",
    "training_results"
   ]
  },
  {
   "cell_type": "code",
   "execution_count": 5,
   "id": "8d7a679e-b836-438b-bc78-53a68c0e89a7",
   "metadata": {},
   "outputs": [],
   "source": [
    "with open('kmeans_model.pkl', 'wb') as file:\n",
    "    pickle.dump(training_results, file)"
   ]
  }
 ],
 "metadata": {
  "kernelspec": {
   "display_name": "Python 3 (ipykernel)",
   "language": "python",
   "name": "python3"
  },
  "language_info": {
   "codemirror_mode": {
    "name": "ipython",
    "version": 3
   },
   "file_extension": ".py",
   "mimetype": "text/x-python",
   "name": "python",
   "nbconvert_exporter": "python",
   "pygments_lexer": "ipython3",
   "version": "3.11.7"
  }
 },
 "nbformat": 4,
 "nbformat_minor": 5
}
