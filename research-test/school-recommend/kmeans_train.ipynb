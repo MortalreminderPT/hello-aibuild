{
 "cells": [
  {
   "cell_type": "code",
   "execution_count": 1,
   "id": "85da4611-ab03-4254-a59a-108621301f4d",
   "metadata": {},
   "outputs": [],
   "source": [
    "import torch\n",
    "import pickle\n",
    "import numpy as np\n",
    "from kmeans_pytorch import kmeans\n",
    "from utils import read, to_int, to_float, process, normalize"
   ]
  },
  {
   "cell_type": "code",
   "execution_count": 2,
   "id": "507ba2ed-b9e7-4f33-831d-e55de49385c7",
   "metadata": {},
   "outputs": [],
   "source": [
    "n_clusters = 5"
   ]
  },
  {
   "cell_type": "code",
   "execution_count": 3,
   "id": "f42c7cbb-4dc8-4efa-a0cf-b92439c5c686",
   "metadata": {},
   "outputs": [
    {
     "data": {
      "text/plain": [
       "tensor([[-1.4547e-04, -8.7209e-05, -1.9491e-05,  ...,  1.2693e+00,\n",
       "          9.7726e-02, -4.4677e-02],\n",
       "        [-3.0860e-05, -1.1811e-05,  2.0673e-05,  ..., -1.8985e+00,\n",
       "          3.3168e-01, -7.3532e-01],\n",
       "        [-4.4356e-05, -2.0197e-05,  1.7887e-05,  ...,  3.0333e+00,\n",
       "          1.4453e+00,  8.2127e-02],\n",
       "        ...,\n",
       "        [-3.8911e-05, -1.6798e-05,  1.5392e-05,  ..., -2.8998e+00,\n",
       "         -9.3635e+00, -7.3532e-01],\n",
       "        [-3.1929e-05, -1.2470e-05,  2.0502e-05,  ..., -2.2728e+00,\n",
       "         -9.3635e+00, -7.3532e-01],\n",
       "        [-4.4282e-05, -2.0150e-05,  1.5397e-05,  ..., -1.9500e+00,\n",
       "         -1.2592e+00, -7.3532e-01]], dtype=torch.float64)"
      ]
     },
     "execution_count": 3,
     "metadata": {},
     "output_type": "execute_result"
    }
   ],
   "source": [
    "school_list = read('./wa_secondary_schools.csv')\n",
    "processed_array = process(school_list)\n",
    "means = np.where(processed_array != -1, processed_array, np.nan)\n",
    "means = np.nanmean(means, axis=0)\n",
    "std_dev = np.std(processed_array)\n",
    "processed_array = normalize(processed_array, means, std_dev, 'means_filling')\n",
    "processed_tensor = torch.tensor(processed_array)\n",
    "processed_tensor"
   ]
  },
  {
   "cell_type": "code",
   "execution_count": 4,
   "id": "92ae937d-8290-4dbc-901c-069c5ad28b31",
   "metadata": {},
   "outputs": [
    {
     "name": "stdout",
     "output_type": "stream",
     "text": [
      "running k-means on cpu..\n"
     ]
    },
    {
     "name": "stderr",
     "output_type": "stream",
     "text": [
      "[running kmeans]: 8it [00:00, 1016.28it/s, center_shift=0.000000, iteration=8, tol=0.000100]\n"
     ]
    },
    {
     "data": {
      "text/plain": [
       "{'means': array([-5.11692093e-01,  8.56222924e-01,  8.92163665e-01, -4.49097068e-01,\n",
       "         7.05739812e+02,  9.99557252e+02,  7.75741007e+01]),\n",
       " 'std_dev': 427.4300898319394,\n",
       " 'labels': tensor([2, 1, 3, 0, 4, 3, 2, 2, 0, 1, 3, 2, 2, 4, 0, 3, 0, 4, 2, 3, 2, 3, 1, 1,\n",
       "         1, 1, 1, 1, 1, 2, 1, 2, 2, 2, 0, 2, 2, 4, 3, 0, 3, 2, 2, 3, 4, 0, 2, 1,\n",
       "         1, 2, 1, 0, 1, 4, 4, 0, 1, 2, 1, 4, 1, 1, 1, 2, 4, 1, 2, 0, 0, 3, 1, 0,\n",
       "         1, 1, 2, 1, 2, 2, 1, 1, 0, 1, 1, 1, 1, 4, 0, 1, 2, 2, 0, 2, 3, 3, 2, 1,\n",
       "         2, 1, 1, 1, 2, 1, 4, 1, 0, 3, 0, 2, 2, 0, 1, 1, 1, 1, 2, 2, 2, 3, 0, 4,\n",
       "         0, 3, 2, 3, 1, 0, 2, 2, 1, 1, 3, 1, 1, 1, 3, 2, 1, 0, 1, 4, 3, 2, 4, 2,\n",
       "         2, 4, 0, 1, 3, 1, 2, 1, 0, 3, 1, 1, 1, 3, 3, 3, 1, 0, 2, 1, 3, 1, 1, 3,\n",
       "         1, 3, 2, 0, 3, 3, 1, 3, 0, 2, 1, 3, 0, 4, 2, 2, 3, 2, 2, 1, 3, 2, 4, 2,\n",
       "         3, 2, 1, 3, 2, 4, 0, 1, 1, 2, 3, 1, 1, 2, 4, 1, 2, 1, 1, 2, 1, 2, 1, 1,\n",
       "         3, 0, 0, 0, 1, 3, 3, 0, 3, 2, 2, 3, 2, 1, 3, 3, 2, 1, 3, 1, 0, 2, 1, 0,\n",
       "         1, 2, 4, 3, 0, 3, 0, 3, 3, 3, 1, 4, 0, 0, 0, 1, 1, 2, 1, 2, 2, 1, 1, 1,\n",
       "         3, 2, 2, 2, 1, 4, 0, 3, 1, 3, 2, 2, 4, 1, 1, 3, 3, 2, 0, 0, 2, 1, 3, 1,\n",
       "         1, 2, 1, 3, 3, 1, 0, 0, 1, 2, 3, 0, 0, 0, 0, 0, 4, 1, 0, 3, 0, 1, 1, 0,\n",
       "         2, 0, 0, 1, 0, 0, 1]),\n",
       " 'centers': tensor([[ 4.6893e-05,  2.2920e-05, -1.9080e-05, -3.2912e-05, -1.0711e+00,\n",
       "          -9.3635e+00, -5.7985e-01],\n",
       "         [ 3.2311e-05,  1.5200e-05, -9.2037e-06, -1.3574e-05, -2.2507e+00,\n",
       "          -5.6341e-01, -7.1522e-01],\n",
       "         [-3.6116e-05, -1.8520e-05,  6.0835e-06,  8.0242e-06,  1.9397e-01,\n",
       "           5.3365e-02, -3.6150e-01],\n",
       "         [-3.6619e-05, -1.6422e-05,  1.8687e-05,  3.1684e-05,  2.4839e+00,\n",
       "           5.6485e-01,  1.5747e-03],\n",
       "         [-4.2800e-05, -1.9244e-05,  1.8973e-05,  3.2223e-05,  5.3810e+00,\n",
       "           8.3469e-01,  5.7893e-02]])}"
      ]
     },
     "execution_count": 4,
     "metadata": {},
     "output_type": "execute_result"
    }
   ],
   "source": [
    "labels, cluster_centers = kmeans(\n",
    "    X=processed_tensor, num_clusters=n_clusters, distance='euclidean'\n",
    ")\n",
    "\n",
    "training_results = {\n",
    "    'means': means,\n",
    "    'std_dev': std_dev,\n",
    "    'labels': labels,\n",
    "    'centers': cluster_centers,\n",
    "}\n",
    "\n",
    "training_results"
   ]
  },
  {
   "cell_type": "code",
   "execution_count": 5,
   "id": "8d7a679e-b836-438b-bc78-53a68c0e89a7",
   "metadata": {},
   "outputs": [],
   "source": [
    "with open('kmeans_model.pkl', 'wb') as file:\n",
    "    pickle.dump(training_results, file)"
   ]
  }
 ],
 "metadata": {
  "kernelspec": {
   "display_name": "Python 3 (ipykernel)",
   "language": "python",
   "name": "python3"
  },
  "language_info": {
   "codemirror_mode": {
    "name": "ipython",
    "version": 3
   },
   "file_extension": ".py",
   "mimetype": "text/x-python",
   "name": "python",
   "nbconvert_exporter": "python",
   "pygments_lexer": "ipython3",
   "version": "3.11.7"
  }
 },
 "nbformat": 4,
 "nbformat_minor": 5
}
