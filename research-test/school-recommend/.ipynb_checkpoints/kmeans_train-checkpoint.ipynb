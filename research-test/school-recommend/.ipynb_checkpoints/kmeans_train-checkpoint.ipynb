{
 "cells": [
  {
   "cell_type": "code",
   "execution_count": 1,
   "id": "85da4611-ab03-4254-a59a-108621301f4d",
   "metadata": {},
   "outputs": [],
   "source": [
    "import torch\n",
    "import pickle\n",
    "import numpy as np\n",
    "from kmeans_pytorch import kmeans\n",
    "from utils import read, to_int, to_float, process, normalize"
   ]
  },
  {
   "cell_type": "code",
   "execution_count": 2,
   "id": "507ba2ed-b9e7-4f33-831d-e55de49385c7",
   "metadata": {},
   "outputs": [],
   "source": [
    "n_clusters = 5"
   ]
  },
  {
   "cell_type": "code",
   "execution_count": 3,
   "id": "f42c7cbb-4dc8-4efa-a0cf-b92439c5c686",
   "metadata": {},
   "outputs": [],
   "source": [
    "school_list = read('./wa_secondary_schools.csv')\n",
    "processed_array = process(school_list)\n",
    "means = np.where(processed_array != -1, processed_array, np.nan)\n",
    "means = np.nanmean(means, axis=0)\n",
    "std_dev = np.std(processed_array)\n",
    "processed_array = normalize(processed_array, means, std_dev, 'means_filling')\n",
    "processed_tensor = torch.tensor(processed_array)\n",
    "processed_tensor"
   ]
  },
  {
   "cell_type": "code",
   "execution_count": 4,
   "id": "92ae937d-8290-4dbc-901c-069c5ad28b31",
   "metadata": {},
   "outputs": [
    {
     "name": "stdout",
     "output_type": "stream",
     "text": [
      "running k-means on cpu..\n"
     ]
    },
    {
     "name": "stderr",
     "output_type": "stream",
     "text": [
      "[running kmeans]: 11it [00:00, 205.02it/s, center_shift=0.000000, iteration=11, tol=0.000100]\n"
     ]
    },
    {
     "data": {
      "text/plain": [
       "{'means': array([-5.11692093e-01,  8.56222924e-01,  8.92163665e-01, -4.49097068e-01,\n",
       "         7.05739812e+02,  9.99557252e+02,  7.75741007e+01]),\n",
       " 'std_dev': 427.4300898319394,\n",
       " 'labels': tensor([3, 4, 1, 0, 1, 1, 3, 3, 0, 4, 1, 3, 3, 1, 0, 1, 0, 1, 4, 3, 3, 3, 4, 4,\n",
       "         4, 4, 4, 4, 4, 3, 4, 3, 3, 3, 0, 3, 3, 1, 1, 0, 1, 3, 3, 1, 1, 0, 4, 4,\n",
       "         2, 3, 4, 0, 4, 1, 1, 0, 2, 3, 4, 1, 4, 2, 4, 4, 1, 4, 3, 0, 0, 1, 4, 0,\n",
       "         4, 4, 3, 4, 3, 3, 4, 2, 0, 4, 4, 4, 4, 1, 0, 4, 3, 4, 0, 4, 1, 3, 3, 4,\n",
       "         3, 4, 4, 2, 4, 4, 1, 4, 0, 3, 0, 4, 3, 0, 4, 4, 4, 4, 3, 3, 3, 3, 0, 1,\n",
       "         0, 1, 3, 3, 4, 0, 3, 3, 4, 4, 3, 4, 4, 4, 3, 3, 4, 0, 4, 1, 3, 3, 1, 3,\n",
       "         3, 1, 0, 4, 3, 4, 3, 4, 0, 3, 4, 4, 4, 1, 3, 3, 4, 0, 3, 4, 3, 4, 2, 1,\n",
       "         4, 1, 4, 0, 3, 3, 2, 3, 0, 3, 2, 1, 0, 1, 3, 3, 3, 3, 3, 2, 1, 3, 1, 4,\n",
       "         3, 3, 4, 3, 3, 1, 0, 4, 2, 3, 3, 4, 4, 3, 1, 4, 3, 2, 2, 3, 4, 3, 4, 4,\n",
       "         3, 0, 0, 0, 4, 3, 3, 0, 1, 4, 3, 1, 3, 4, 3, 3, 3, 4, 3, 4, 0, 3, 4, 0,\n",
       "         2, 3, 1, 1, 0, 1, 0, 1, 3, 3, 4, 1, 0, 0, 0, 4, 4, 3, 4, 4, 3, 4, 4, 4,\n",
       "         3, 3, 3, 3, 4, 1, 0, 1, 4, 1, 3, 3, 1, 4, 2, 1, 3, 3, 0, 0, 3, 4, 3, 4,\n",
       "         4, 3, 4, 3, 1, 4, 0, 0, 4, 3, 1, 0, 0, 0, 0, 0, 1, 4, 0, 1, 0, 4, 2, 0,\n",
       "         3, 0, 0, 4, 0, 0, 4]),\n",
       " 'centers': tensor([[ 4.6893e-05,  2.2920e-05, -1.9080e-05, -3.2912e-05, -1.0711e+00,\n",
       "          -9.3635e+00, -5.7985e-01],\n",
       "         [-4.4587e-05, -2.0393e-05,  1.8700e-05,  3.1666e-05,  4.2661e+00,\n",
       "           7.2529e-01,  3.8967e-02],\n",
       "         [ 2.7046e-04,  1.3223e-04, -9.8813e-05, -1.6727e-04, -2.5542e+00,\n",
       "          -2.7983e+00, -7.3532e-01],\n",
       "         [-3.3385e-05, -1.6590e-05,  9.2788e-06,  1.4051e-05,  8.7267e-01,\n",
       "           2.0190e-01, -2.2704e-01],\n",
       "         [-1.2197e-05, -6.4064e-06,  7.3072e-06,  1.4395e-05, -2.0442e+00,\n",
       "          -1.4568e-01, -6.9129e-01]])}"
      ]
     },
     "execution_count": 4,
     "metadata": {},
     "output_type": "execute_result"
    }
   ],
   "source": [
    "labels, cluster_centers = kmeans(\n",
    "    X=processed_tensor, num_clusters=n_clusters, distance='euclidean'\n",
    ")\n",
    "\n",
    "training_results = {\n",
    "    'means': means,\n",
    "    'std_dev': std_dev,\n",
    "    'labels': labels,\n",
    "    'centers': cluster_centers,\n",
    "}\n",
    "\n",
    "training_results"
   ]
  },
  {
   "cell_type": "code",
   "execution_count": 5,
   "id": "8d7a679e-b836-438b-bc78-53a68c0e89a7",
   "metadata": {},
   "outputs": [],
   "source": [
    "with open('kmeans_model.pkl', 'wb') as file:\n",
    "    pickle.dump(training_results, file)"
   ]
  }
 ],
 "metadata": {
  "kernelspec": {
   "display_name": "Python 3 (ipykernel)",
   "language": "python",
   "name": "python3"
  },
  "language_info": {
   "codemirror_mode": {
    "name": "ipython",
    "version": 3
   },
   "file_extension": ".py",
   "mimetype": "text/x-python",
   "name": "python",
   "nbconvert_exporter": "python",
   "pygments_lexer": "ipython3",
   "version": "3.11.7"
  }
 },
 "nbformat": 4,
 "nbformat_minor": 5
}
