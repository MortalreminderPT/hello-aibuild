{
 "cells": [
  {
   "cell_type": "code",
   "execution_count": 1,
   "id": "85da4611-ab03-4254-a59a-108621301f4d",
   "metadata": {},
   "outputs": [],
   "source": [
    "import csv\n",
    "import torch\n",
    "import numpy as np\n",
    "import matplotlib.pyplot as plt\n",
    "from kmeans_pytorch import kmeans, kmeans_predict"
   ]
  },
  {
   "cell_type": "code",
   "execution_count": 2,
   "id": "28167f21-6e3d-48bf-a4c3-5899d8672751",
   "metadata": {},
   "outputs": [],
   "source": [
    "def to_int(value):\n",
    "    try:\n",
    "        return int(value)\n",
    "    except ValueError:\n",
    "        return -1\n",
    "def to_float(value):\n",
    "    try:\n",
    "        return float(value)\n",
    "    except ValueError:\n",
    "        return -1"
   ]
  },
  {
   "cell_type": "code",
   "execution_count": 3,
   "id": "257a8d38-5d94-47b3-b5de-068f1c3cf3a6",
   "metadata": {},
   "outputs": [],
   "source": [
    "batch_size = 10\n",
    "n_clusters = 9\n",
    "def read(path):\n",
    "    school_list = []\n",
    "    with open(path, 'r') as file:\n",
    "        reader = csv.DictReader(file)\n",
    "        for row in reader:\n",
    "            school = {}\n",
    "            school['name'] = row['School Name']\n",
    "            school['lat'] = to_float(row['Latitude'])\n",
    "            school['lon'] = to_float(row['Longitude'])\n",
    "            school['num_student'] = to_int(row['Total Students'])\n",
    "            school['atar'] = to_float(row['Median ATAR'])\n",
    "            school['icsea'] = to_int(row['ICSEA']) \n",
    "            school_list.append(school)\n",
    "    return school_list"
   ]
  },
  {
   "cell_type": "code",
   "execution_count": 4,
   "id": "935fdfa0-8962-4649-8b52-68e5137643ea",
   "metadata": {},
   "outputs": [],
   "source": [
    "def process(school_list):\n",
    "    school_ndarray = np.array(school_list)\n",
    "    processed_list = []\n",
    "    for i in range(len(school_ndarray)):\n",
    "        school = school_ndarray[i]\n",
    "        lat_rad = np.radians(school['lat'])\n",
    "        lon_rad = np.radians(school['lon'])\n",
    "        lat_sin = np.sin(lat_rad)\n",
    "        lat_cos = np.cos(lat_rad)\n",
    "        lon_sin = np.sin(lon_rad)\n",
    "        lon_cos = np.cos(lon_rad)\n",
    "        total_students = school['num_student']\n",
    "        icsea = school['icsea']\n",
    "        atar_percent = school['atar']\n",
    "        data = [lat_sin, lat_cos, lon_sin, lon_cos, total_students, icsea, atar_percent];\n",
    "        processed_list.append(data)\n",
    "    processed_array = np.array(processed_list)\n",
    "    return processed_array;"
   ]
  },
  {
   "cell_type": "code",
   "execution_count": 5,
   "id": "37aee938-69e2-4a36-914b-856557bd4fa7",
   "metadata": {},
   "outputs": [],
   "source": [
    "def fill_missing_with_mean(data):\n",
    "    # Convert to numpy array for easier manipulation\n",
    "    data = np.array(data, dtype=float)\n",
    "    \n",
    "    # Compute means ignoring -1\n",
    "    means = np.where(data != -1, data, np.nan)\n",
    "    column_means = np.nanmean(means, axis=0)\n",
    "    \n",
    "    # Fill -1 with column means\n",
    "    for i in range(data.shape[1]):\n",
    "        data[:, i] = np.where(data[:, i] == -1, column_means[i], data[:, i])\n",
    "    \n",
    "    return data"
   ]
  },
  {
   "cell_type": "code",
   "execution_count": 6,
   "id": "675b563a-4fa1-447f-9911-8de5e880873d",
   "metadata": {},
   "outputs": [],
   "source": [
    "def normalize(processed_array, means, std_dev, miss_value_handling):\n",
    "    weights = np.array([1, 1, 1, 1, 2, 4, 4])\n",
    "    processed_array = (processed_array - means) / std_dev\n",
    "    print(means)\n",
    "    print(std_dev)\n",
    "    processed_array = weights * processed_array\n",
    "    if miss_value_handling == \"means_filling\":\n",
    "        processed_array = np.where(processed_array == -1, means, processed_array)\n",
    "    else:\n",
    "        rows_to_remove = np.any(processed_array == -1, axis=1)\n",
    "        processed_array = processed_array[~rows_to_remove]\n",
    "        # school_ndarray = school_ndarray[~rows_to_remove]\n",
    "    return processed_array"
   ]
  },
  {
   "cell_type": "code",
   "execution_count": 7,
   "id": "f42c7cbb-4dc8-4efa-a0cf-b92439c5c686",
   "metadata": {},
   "outputs": [
    {
     "name": "stdout",
     "output_type": "stream",
     "text": [
      "[-5.11692093e-01  8.56222924e-01  8.92163665e-01 -4.49097068e-01\n",
      "  7.05739812e+02  9.99557252e+02  7.75741007e+01]\n",
      "427.4300898319394\n"
     ]
    }
   ],
   "source": [
    "school_list = read('/Users/pt/Projects/Github/aibuild/hello-aibuild/research-test/wa_secondary_schools.csv')\n",
    "processed_array = process(school_list)\n",
    "means = np.where(processed_array != -1, processed_array, np.nan)\n",
    "means = np.nanmean(means, axis=0)\n",
    "std_dev = np.std(processed_array)\n",
    "processed_array = normalize(processed_array, means, std_dev, 'means_filling')\n",
    "processed_tensor = torch.tensor(processed_array)"
   ]
  },
  {
   "cell_type": "code",
   "execution_count": 8,
   "id": "92ae937d-8290-4dbc-901c-069c5ad28b31",
   "metadata": {},
   "outputs": [
    {
     "name": "stdout",
     "output_type": "stream",
     "text": [
      "running k-means on cpu..\n"
     ]
    },
    {
     "name": "stderr",
     "output_type": "stream",
     "text": [
      "[running kmeans]: 32it [00:00, 591.31it/s, center_shift=0.000000, iteration=32, tol=0.000100]\n"
     ]
    }
   ],
   "source": [
    "labels, cluster_centers = kmeans(\n",
    "    X=processed_tensor, num_clusters=n_clusters, distance='euclidean'\n",
    ")"
   ]
  },
  {
   "cell_type": "code",
   "execution_count": 21,
   "id": "55a230f9-f7d8-4c82-a039-1aac26bc7d6f",
   "metadata": {},
   "outputs": [
    {
     "name": "stdout",
     "output_type": "stream",
     "text": [
      "[-5.11692093e-01  8.56222924e-01  8.92163665e-01 -4.49097068e-01\n",
      "  7.05739812e+02  9.99557252e+02  7.75741007e+01]\n",
      "427.4300898319394\n",
      "predicting on cpu..\n",
      "tensor([0, 0])\n",
      "tensor(0) {'name': 'ALBANY SENIOR HIGH SCHOOL', 'lat': -35.02044765, 'lon': 117.8917733, 'num_student': 977, 'atar': 72.8, 'icsea': 1010}\n",
      "tensor(0) {'name': 'BELMONT CITY COLLEGE', 'lat': -31.95889136, 'lon': 115.9344344, 'num_student': 908, 'atar': 80.85, 'icsea': 968}\n",
      "tensor(0) {'name': 'BELRIDGE SECONDARY COLLEGE', 'lat': -31.77038385, 'lon': 115.7631759, 'num_student': 1015, 'atar': 72.55, 'icsea': 1015}\n",
      "tensor(0) {'name': 'BULLSBROOK COLLEGE', 'lat': -31.66171848, 'lon': 116.033179, 'num_student': 961, 'atar': -1, 'icsea': 979}\n",
      "tensor(0) {'name': 'BUNBURY CATHOLIC COLLEGE', 'lat': -33.34342203, 'lon': 115.6614239, 'num_student': 826, 'atar': 78.95, 'icsea': 1035}\n",
      "tensor(0) {'name': 'BUNBURY SENIOR HIGH SCHOOL', 'lat': -33.32746917, 'lon': 115.6326077, 'num_student': 979, 'atar': 77.3, 'icsea': 1019}\n",
      "tensor(0) {'name': 'CAPE NATURALISTE COLLEGE', 'lat': -33.67693545, 'lon': 115.2438891, 'num_student': 877, 'atar': 79.95, 'icsea': 1008}\n",
      "tensor(0) {'name': \"CHRISTIAN BROTHERS' COLLEGE\", 'lat': -32.05178739, 'lon': 115.7533646, 'num_student': 826, 'atar': 82.2, 'icsea': 1089}\n",
      "tensor(0) {'name': 'COMO SECONDARY COLLEGE', 'lat': -32.00366439, 'lon': 115.8711551, 'num_student': 867, 'atar': 75.7, 'icsea': 1074}\n",
      "tensor(0) {'name': 'DARLING RANGE SPORTS COLLEGE', 'lat': -31.97566063, 'lon': 116.0108597, 'num_student': 994, 'atar': 52.4, 'icsea': 976}\n",
      "tensor(0) {'name': 'EASTERN HILLS SENIOR HIGH SCHOOL', 'lat': -31.87396818, 'lon': 116.2200892, 'num_student': 926, 'atar': 72.2, 'icsea': 1017}\n",
      "tensor(0) {'name': 'EMMANUEL CATHOLIC COLLEGE', 'lat': -32.12857818, 'lon': 115.8400696, 'num_student': 1098, 'atar': 80.8, 'icsea': 1036}\n",
      "tensor(0) {'name': 'ESPERANCE SENIOR HIGH SCHOOL', 'lat': -33.86017872, 'lon': 121.868258, 'num_student': 913, 'atar': 79.9, 'icsea': 972}\n",
      "tensor(0) {'name': 'GEORGIANA MOLLOY ANGLICAN SCHOOL', 'lat': -33.6606425, 'lon': 115.3815495, 'num_student': 1121, 'atar': 82.6, 'icsea': 1072}\n",
      "tensor(0) {'name': 'GERALDTON SENIOR HIGH SCHOOL', 'lat': -28.78068474, 'lon': 114.6117092, 'num_student': 934, 'atar': 64.5, 'icsea': 904}\n",
      "tensor(0) {'name': 'GOVERNOR STIRLING SENIOR HIGH SCHOOL', 'lat': -31.88893826, 'lon': 115.9888056, 'num_student': 919, 'atar': 63.8, 'icsea': 974}\n",
      "tensor(0) {'name': 'GREENWOOD COLLEGE', 'lat': -31.82628484, 'lon': 115.7914439, 'num_student': 1071, 'atar': 75.75, 'icsea': 1032}\n",
      "tensor(0) {'name': 'HELENA COLLEGE', 'lat': -31.90747, 'lon': 116.09144, 'num_student': 724, 'atar': 77.35, 'icsea': 1110}\n",
      "tensor(0) {'name': 'HOLY CROSS COLLEGE', 'lat': -31.773097, 'lon': 115.973832, 'num_student': 1121, 'atar': 74.2, 'icsea': 1043}\n",
      "tensor(0) {'name': 'IRENE MCCORMACK CATHOLIC COLLEGE', 'lat': -31.65406275, 'lon': 115.709449, 'num_student': 880, 'atar': 66.2, 'icsea': 1027}\n",
      "tensor(0) {'name': 'JOHN FORREST SECONDARY COLLEGE', 'lat': -31.90416352, 'lon': 115.90089, 'num_student': 1114, 'atar': 78.7, 'icsea': 1025}\n",
      "tensor(0) {'name': 'JOHN WOLLASTON ANGLICAN COMMUNITY SCHOOL', 'lat': -32.104726, 'lon': 116.007834, 'num_student': 968, 'atar': 83.3, 'icsea': 1054}\n",
      "tensor(0) {'name': 'KENT STREET SENIOR HIGH SCHOOL', 'lat': -31.98570399, 'lon': 115.8926602, 'num_student': 1027, 'atar': 74.65, 'icsea': 1023}\n",
      "tensor(0) {'name': 'LANGFORD ISLAMIC COLLEGE', 'lat': -32.04605574, 'lon': 115.9371583, 'num_student': 1043, 'atar': 75.9, 'icsea': 1098}\n",
      "tensor(0) {'name': 'LEEMING SENIOR HIGH SCHOOL', 'lat': -32.07467304, 'lon': 115.8564902, 'num_student': 1091, 'atar': 75.6, 'icsea': 1071}\n",
      "tensor(0) {'name': 'LESMURDIE SENIOR HIGH SCHOOL', 'lat': -32.01252075, 'lon': 116.0516431, 'num_student': 1057, 'atar': 78.95, 'icsea': 1032}\n",
      "tensor(0) {'name': 'LUMEN CHRISTI COLLEGE', 'lat': -32.06737479, 'lon': 116.0120135, 'num_student': 977, 'atar': 65.9, 'icsea': 1013}\n",
      "tensor(0) {'name': 'MARGARET RIVER SENIOR HIGH SCHOOL', 'lat': -33.95431827, 'lon': 115.0746714, 'num_student': 1100, 'atar': 82.35, 'icsea': 1037}\n",
      "tensor(0) {'name': 'MATER DEI COLLEGE', 'lat': -31.76466034, 'lon': 115.7765193, 'num_student': 831, 'atar': 72.45, 'icsea': 1055}\n",
      "tensor(0) {'name': 'MAZENOD COLLEGE', 'lat': -32.006679, 'lon': 116.0388409, 'num_student': 845, 'atar': 85.25, 'icsea': 1067}\n",
      "tensor(0) {'name': 'MERCEDES COLLEGE', 'lat': -31.95623304, 'lon': 115.8670832, 'num_student': 838, 'atar': 88.55, 'icsea': 1116}\n",
      "tensor(0) {'name': \"METHODIST LADIES' COLLEGE\", 'lat': -31.98701169, 'lon': 115.7755403, 'num_student': 1019, 'atar': 90.55, 'icsea': 1150}\n",
      "tensor(0) {'name': 'MINDARIE SENIOR COLLEGE', 'lat': -31.6769792, 'lon': 115.7060496, 'num_student': 780, 'atar': 70.1, 'icsea': 1034}\n",
      "tensor(0) {'name': 'MORLEY SENIOR HIGH SCHOOL', 'lat': -31.8737169, 'lon': 115.8836692, 'num_student': 1058, 'atar': 73.7, 'icsea': 1009}\n",
      "tensor(0) {'name': 'NAGLE CATHOLIC COLLEGE', 'lat': -28.77776964, 'lon': 114.6099931, 'num_student': 1089, 'atar': 77.05, 'icsea': 1018}\n",
      "tensor(0) {'name': 'NORTH ALBANY SENIOR HIGH SCHOOL', 'lat': -34.99074882, 'lon': 117.8668674, 'num_student': 833, 'atar': 70.15, 'icsea': 970}\n",
      "tensor(0) {'name': 'PENRHOS COLLEGE', 'lat': -31.99743072, 'lon': 115.8725394, 'num_student': 986, 'atar': 90.65, 'icsea': 1051}\n",
      "tensor(0) {'name': 'PERTH COLLEGE', 'lat': -31.93117853, 'lon': 115.8754809, 'num_student': 1028, 'atar': 89.4, 'icsea': 1153}\n",
      "tensor(0) {'name': 'PETER CARNLEY ANGLICAN COMMUNITY SCHOOL', 'lat': -32.25710348, 'lon': 115.8149145, 'num_student': 990, 'atar': -1, 'icsea': 1056}\n",
      "tensor(0) {'name': 'PRESBYTERIAN LADIES COLLEGE', 'lat': -31.993592, 'lon': 115.764906, 'num_student': 1027, 'atar': 89.2, 'icsea': 1111}\n",
      "tensor(0) {'name': 'PROVIDENCE CHRISTIAN COLLEGE', 'lat': -32.09974606, 'lon': 115.9366941, 'num_student': 838, 'atar': 83.85, 'icsea': 1090}\n",
      "tensor(0) {'name': 'REHOBOTH CHRISTIAN COLLEGE', 'lat': -32.03161911, 'lon': 115.977924, 'num_student': 803, 'atar': -1, 'icsea': 1114}\n",
      "tensor(0) {'name': 'ROLEYSTONE COMMUNITY COLLEGE', 'lat': -32.10331975, 'lon': 116.0846169, 'num_student': 842, 'atar': -1, 'icsea': 1039}\n",
      "tensor(0) {'name': 'SERVITE COLLEGE', 'lat': -31.90270449, 'lon': 115.8336415, 'num_student': 1009, 'atar': 80.0, 'icsea': 1032}\n",
      "tensor(0) {'name': 'SETON CATHOLIC COLLEGE', 'lat': -32.07269529, 'lon': 115.7933707, 'num_student': 993, 'atar': 75.35, 'icsea': 1038}\n",
      "tensor(0) {'name': 'SOUTHERN RIVER COLLEGE', 'lat': -32.08559751, 'lon': 115.979918, 'num_student': 937, 'atar': 66.0, 'icsea': 937}\n",
      "tensor(0) {'name': \"ST BRIGID'S COLLEGE\", 'lat': -31.99663035, 'lon': 116.0520664, 'num_student': 905, 'atar': 73.85, 'icsea': 1048}\n",
      "tensor(0) {'name': 'ST NORBERT COLLEGE', 'lat': -32.00436432, 'lon': 115.9403443, 'num_student': 913, 'atar': 83.0, 'icsea': 1044}\n"
     ]
    }
   ],
   "source": [
    "training_results = {\n",
    "    'means': means,\n",
    "    'std_dev': std_dev,\n",
    "    'labels': labels,\n",
    "    'centers': cluster_centers,\n",
    "}\n",
    "\n",
    "# print(training_results)\n",
    "\n",
    "school = {\n",
    "    'name': 'null',\n",
    "    'lat': -35,\n",
    "    'lon': 117,\n",
    "    'num_student': 977,\n",
    "    'atar': 2000,\n",
    "    'icsea': 1000,\n",
    "}\n",
    "schools = [school, school]\n",
    "predict_array = process(schools)\n",
    "predict_array = normalize(\n",
    "    predict_array, \n",
    "    training_results['means'], \n",
    "    training_results['std_dev'], \n",
    "    'means_filling'\n",
    ")\n",
    "\n",
    "predict_tensor = torch.tensor(predict_array)\n",
    "\n",
    "cluster_ids_y = kmeans_predict(predict_tensor, cluster_centers, 'euclidean')\n",
    "\n",
    "print(cluster_ids_y)\n",
    "for i in range(labels.shape[0]):\n",
    "    if cluster_ids_y[0] == labels[i]:\n",
    "        print(labels[i], school_list[i])"
   ]
  },
  {
   "cell_type": "code",
   "execution_count": null,
   "id": "73d8eb6e-1f0c-4e40-b877-f115b7542716",
   "metadata": {},
   "outputs": [],
   "source": []
  }
 ],
 "metadata": {
  "kernelspec": {
   "display_name": "Python 3 (ipykernel)",
   "language": "python",
   "name": "python3"
  },
  "language_info": {
   "codemirror_mode": {
    "name": "ipython",
    "version": 3
   },
   "file_extension": ".py",
   "mimetype": "text/x-python",
   "name": "python",
   "nbconvert_exporter": "python",
   "pygments_lexer": "ipython3",
   "version": "3.11.7"
  }
 },
 "nbformat": 4,
 "nbformat_minor": 5
}
