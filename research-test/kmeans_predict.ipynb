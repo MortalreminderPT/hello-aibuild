{
 "cells": [
  {
   "cell_type": "code",
   "execution_count": null,
   "id": "85da4611-ab03-4254-a59a-108621301f4d",
   "metadata": {},
   "outputs": [],
   "source": [
    "import csv\n",
    "import torch\n",
    "import numpy as np\n",
    "import matplotlib.pyplot as plt\n",
    "from kmeans_pytorch import kmeans, kmeans_predict"
   ]
  },
  {
   "cell_type": "code",
   "execution_count": null,
   "id": "935fdfa0-8962-4649-8b52-68e5137643ea",
   "metadata": {},
   "outputs": [],
   "source": [
    "def process(school_list):\n",
    "    school_ndarray = np.array(school_list)\n",
    "    processed_list = []\n",
    "    for i in range(len(school_ndarray)):\n",
    "        school = school_ndarray[i]\n",
    "        lat_rad = np.radians(school['lat'])\n",
    "        lon_rad = np.radians(school['lon'])\n",
    "        lat_sin = np.sin(lat_rad)\n",
    "        lat_cos = np.cos(lat_rad)\n",
    "        lon_sin = np.sin(lon_rad)\n",
    "        lon_cos = np.cos(lon_rad)\n",
    "        total_students = school['num_student']\n",
    "        icsea = school['icsea']\n",
    "        atar_percent = school['atar']\n",
    "        data = [lat_sin, lat_cos, lon_sin, lon_cos, total_students, icsea, atar_percent];\n",
    "        processed_list.append(data)\n",
    "    processed_array = np.array(processed_list)\n",
    "    return processed_array;"
   ]
  },
  {
   "cell_type": "code",
   "execution_count": null,
   "id": "675b563a-4fa1-447f-9911-8de5e880873d",
   "metadata": {},
   "outputs": [],
   "source": [
    "def normalize(processed_array, means, std_dev, miss_value_handling):\n",
    "    weights = np.array([1, 1, 1, 1, 2, 4, 4])\n",
    "    processed_array = (processed_array - means) / std_dev\n",
    "    print(means)\n",
    "    print(std_dev)\n",
    "    processed_array = weights * processed_array\n",
    "    if miss_value_handling == \"means_filling\":\n",
    "        processed_array = np.where(processed_array == -1, means, processed_array)\n",
    "    else:\n",
    "        rows_to_remove = np.any(processed_array == -1, axis=1)\n",
    "        processed_array = processed_array[~rows_to_remove]\n",
    "        # school_ndarray = school_ndarray[~rows_to_remove]\n",
    "    return processed_array"
   ]
  },
  {
   "cell_type": "code",
   "execution_count": null,
   "id": "55a230f9-f7d8-4c82-a039-1aac26bc7d6f",
   "metadata": {},
   "outputs": [],
   "source": [
    "training_results = {\n",
    "    'means': means,\n",
    "    'std_dev': std_dev,\n",
    "    'labels': labels,\n",
    "    'centers': cluster_centers,\n",
    "}\n",
    "\n",
    "# print(training_results)\n",
    "\n",
    "school = {\n",
    "    'name': 'null',\n",
    "    'lat': -35,\n",
    "    'lon': 117,\n",
    "    'num_student': 977,\n",
    "    'atar': 2000,\n",
    "    'icsea': 1000,\n",
    "}\n",
    "schools = [school, school]\n",
    "predict_array = process(schools)\n",
    "predict_array = normalize(\n",
    "    predict_array, \n",
    "    training_results['means'], \n",
    "    training_results['std_dev'], \n",
    "    'means_filling'\n",
    ")\n",
    "\n",
    "predict_tensor = torch.tensor(predict_array)\n",
    "\n",
    "cluster_ids_y = kmeans_predict(predict_tensor, cluster_centers, 'euclidean')\n",
    "\n",
    "# print(cluster_ids_y)\n",
    "for i in range(labels.shape[0]):\n",
    "    if cluster_ids_y[0] == labels[i]:\n",
    "        print(labels[i], school_list[i])"
   ]
  },
  {
   "cell_type": "code",
   "execution_count": null,
   "id": "73d8eb6e-1f0c-4e40-b877-f115b7542716",
   "metadata": {},
   "outputs": [],
   "source": []
  }
 ],
 "metadata": {
  "kernelspec": {
   "display_name": "Python 3 (ipykernel)",
   "language": "python",
   "name": "python3"
  },
  "language_info": {
   "codemirror_mode": {
    "name": "ipython",
    "version": 3
   },
   "file_extension": ".py",
   "mimetype": "text/x-python",
   "name": "python",
   "nbconvert_exporter": "python",
   "pygments_lexer": "ipython3",
   "version": "3.11.7"
  }
 },
 "nbformat": 4,
 "nbformat_minor": 5
}
